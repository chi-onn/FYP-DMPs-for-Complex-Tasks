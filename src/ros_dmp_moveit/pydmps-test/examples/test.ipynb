{
 "cells": [
  {
   "cell_type": "code",
   "execution_count": 2,
   "metadata": {},
   "outputs": [],
   "source": [
    "import pandas as pd\n",
    "import matplotlib.pyplot as plt\n",
    "import numpy as np"
   ]
  },
  {
   "cell_type": "code",
   "execution_count": 88,
   "metadata": {},
   "outputs": [
    {
     "data": {
      "text/html": [
       "<div>\n",
       "<style scoped>\n",
       "    .dataframe tbody tr th:only-of-type {\n",
       "        vertical-align: middle;\n",
       "    }\n",
       "\n",
       "    .dataframe tbody tr th {\n",
       "        vertical-align: top;\n",
       "    }\n",
       "\n",
       "    .dataframe thead th {\n",
       "        text-align: right;\n",
       "    }\n",
       "</style>\n",
       "<table border=\"1\" class=\"dataframe\">\n",
       "  <thead>\n",
       "    <tr style=\"text-align: right;\">\n",
       "      <th></th>\n",
       "      <th>0</th>\n",
       "      <th>1</th>\n",
       "      <th>2</th>\n",
       "      <th>3</th>\n",
       "      <th>4</th>\n",
       "      <th>5</th>\n",
       "      <th>6</th>\n",
       "      <th>7</th>\n",
       "    </tr>\n",
       "  </thead>\n",
       "  <tbody>\n",
       "    <tr>\n",
       "      <th>0</th>\n",
       "      <td>0.355178</td>\n",
       "      <td>-0.520234</td>\n",
       "      <td>-0.446406</td>\n",
       "      <td>-0.000036</td>\n",
       "      <td>0.421889</td>\n",
       "      <td>-0.000023</td>\n",
       "      <td>0.0</td>\n",
       "      <td>NaN</td>\n",
       "    </tr>\n",
       "    <tr>\n",
       "      <th>1</th>\n",
       "      <td>0.355141</td>\n",
       "      <td>-0.521387</td>\n",
       "      <td>-0.446406</td>\n",
       "      <td>-0.000036</td>\n",
       "      <td>0.421889</td>\n",
       "      <td>-0.000023</td>\n",
       "      <td>0.0</td>\n",
       "      <td>NaN</td>\n",
       "    </tr>\n",
       "    <tr>\n",
       "      <th>2</th>\n",
       "      <td>0.355141</td>\n",
       "      <td>-0.521603</td>\n",
       "      <td>-0.446406</td>\n",
       "      <td>-0.000036</td>\n",
       "      <td>0.421889</td>\n",
       "      <td>-0.000023</td>\n",
       "      <td>0.0</td>\n",
       "      <td>NaN</td>\n",
       "    </tr>\n",
       "    <tr>\n",
       "      <th>3</th>\n",
       "      <td>0.355141</td>\n",
       "      <td>-0.521785</td>\n",
       "      <td>-0.446408</td>\n",
       "      <td>-0.000036</td>\n",
       "      <td>0.421889</td>\n",
       "      <td>-0.000023</td>\n",
       "      <td>0.0</td>\n",
       "      <td>NaN</td>\n",
       "    </tr>\n",
       "    <tr>\n",
       "      <th>4</th>\n",
       "      <td>0.355141</td>\n",
       "      <td>-0.522042</td>\n",
       "      <td>-0.446410</td>\n",
       "      <td>-0.000036</td>\n",
       "      <td>0.421889</td>\n",
       "      <td>-0.000023</td>\n",
       "      <td>0.0</td>\n",
       "      <td>NaN</td>\n",
       "    </tr>\n",
       "    <tr>\n",
       "      <th>5</th>\n",
       "      <td>0.355141</td>\n",
       "      <td>-0.522313</td>\n",
       "      <td>-0.446415</td>\n",
       "      <td>-0.000038</td>\n",
       "      <td>0.421889</td>\n",
       "      <td>-0.000023</td>\n",
       "      <td>0.0</td>\n",
       "      <td>NaN</td>\n",
       "    </tr>\n",
       "    <tr>\n",
       "      <th>6</th>\n",
       "      <td>0.355141</td>\n",
       "      <td>-0.522585</td>\n",
       "      <td>-0.446427</td>\n",
       "      <td>-0.000038</td>\n",
       "      <td>0.421889</td>\n",
       "      <td>-0.000023</td>\n",
       "      <td>0.0</td>\n",
       "      <td>NaN</td>\n",
       "    </tr>\n",
       "    <tr>\n",
       "      <th>7</th>\n",
       "      <td>0.355141</td>\n",
       "      <td>-0.522869</td>\n",
       "      <td>-0.446444</td>\n",
       "      <td>-0.000038</td>\n",
       "      <td>0.421889</td>\n",
       "      <td>-0.000023</td>\n",
       "      <td>0.0</td>\n",
       "      <td>NaN</td>\n",
       "    </tr>\n",
       "    <tr>\n",
       "      <th>8</th>\n",
       "      <td>0.355141</td>\n",
       "      <td>-0.523160</td>\n",
       "      <td>-0.446475</td>\n",
       "      <td>-0.000038</td>\n",
       "      <td>0.421889</td>\n",
       "      <td>-0.000023</td>\n",
       "      <td>0.0</td>\n",
       "      <td>NaN</td>\n",
       "    </tr>\n",
       "    <tr>\n",
       "      <th>9</th>\n",
       "      <td>0.355141</td>\n",
       "      <td>-0.523458</td>\n",
       "      <td>-0.446532</td>\n",
       "      <td>-0.000038</td>\n",
       "      <td>0.421889</td>\n",
       "      <td>-0.000023</td>\n",
       "      <td>0.0</td>\n",
       "      <td>NaN</td>\n",
       "    </tr>\n",
       "    <tr>\n",
       "      <th>10</th>\n",
       "      <td>0.355141</td>\n",
       "      <td>-0.523772</td>\n",
       "      <td>-0.446607</td>\n",
       "      <td>-0.000038</td>\n",
       "      <td>0.421889</td>\n",
       "      <td>-0.000023</td>\n",
       "      <td>0.0</td>\n",
       "      <td>NaN</td>\n",
       "    </tr>\n",
       "    <tr>\n",
       "      <th>11</th>\n",
       "      <td>0.355141</td>\n",
       "      <td>-0.524086</td>\n",
       "      <td>-0.446684</td>\n",
       "      <td>-0.000038</td>\n",
       "      <td>0.421889</td>\n",
       "      <td>-0.000023</td>\n",
       "      <td>0.0</td>\n",
       "      <td>NaN</td>\n",
       "    </tr>\n",
       "    <tr>\n",
       "      <th>12</th>\n",
       "      <td>0.355141</td>\n",
       "      <td>-0.524407</td>\n",
       "      <td>-0.446747</td>\n",
       "      <td>-0.000038</td>\n",
       "      <td>0.421889</td>\n",
       "      <td>-0.000023</td>\n",
       "      <td>0.0</td>\n",
       "      <td>NaN</td>\n",
       "    </tr>\n",
       "    <tr>\n",
       "      <th>13</th>\n",
       "      <td>0.355141</td>\n",
       "      <td>-0.524744</td>\n",
       "      <td>-0.446808</td>\n",
       "      <td>-0.000040</td>\n",
       "      <td>0.421889</td>\n",
       "      <td>-0.000023</td>\n",
       "      <td>0.0</td>\n",
       "      <td>NaN</td>\n",
       "    </tr>\n",
       "    <tr>\n",
       "      <th>14</th>\n",
       "      <td>0.355141</td>\n",
       "      <td>-0.525099</td>\n",
       "      <td>-0.446864</td>\n",
       "      <td>-0.000040</td>\n",
       "      <td>0.421889</td>\n",
       "      <td>-0.000023</td>\n",
       "      <td>0.0</td>\n",
       "      <td>NaN</td>\n",
       "    </tr>\n",
       "    <tr>\n",
       "      <th>15</th>\n",
       "      <td>0.355141</td>\n",
       "      <td>-0.525477</td>\n",
       "      <td>-0.446920</td>\n",
       "      <td>-0.000040</td>\n",
       "      <td>0.421891</td>\n",
       "      <td>-0.000023</td>\n",
       "      <td>0.0</td>\n",
       "      <td>NaN</td>\n",
       "    </tr>\n",
       "    <tr>\n",
       "      <th>16</th>\n",
       "      <td>0.355141</td>\n",
       "      <td>-0.525879</td>\n",
       "      <td>-0.446975</td>\n",
       "      <td>-0.000040</td>\n",
       "      <td>0.421891</td>\n",
       "      <td>-0.000023</td>\n",
       "      <td>0.0</td>\n",
       "      <td>NaN</td>\n",
       "    </tr>\n",
       "    <tr>\n",
       "      <th>17</th>\n",
       "      <td>0.355141</td>\n",
       "      <td>-0.526192</td>\n",
       "      <td>-0.447021</td>\n",
       "      <td>-0.000040</td>\n",
       "      <td>0.421893</td>\n",
       "      <td>-0.000023</td>\n",
       "      <td>0.0</td>\n",
       "      <td>NaN</td>\n",
       "    </tr>\n",
       "    <tr>\n",
       "      <th>18</th>\n",
       "      <td>0.355141</td>\n",
       "      <td>-0.526619</td>\n",
       "      <td>-0.447077</td>\n",
       "      <td>-0.000040</td>\n",
       "      <td>0.421896</td>\n",
       "      <td>-0.000023</td>\n",
       "      <td>0.0</td>\n",
       "      <td>NaN</td>\n",
       "    </tr>\n",
       "    <tr>\n",
       "      <th>19</th>\n",
       "      <td>0.355141</td>\n",
       "      <td>-0.527076</td>\n",
       "      <td>-0.447125</td>\n",
       "      <td>-0.000040</td>\n",
       "      <td>0.421898</td>\n",
       "      <td>-0.000023</td>\n",
       "      <td>0.0</td>\n",
       "      <td>NaN</td>\n",
       "    </tr>\n",
       "    <tr>\n",
       "      <th>20</th>\n",
       "      <td>0.355141</td>\n",
       "      <td>-0.527542</td>\n",
       "      <td>-0.447169</td>\n",
       "      <td>-0.000040</td>\n",
       "      <td>0.421904</td>\n",
       "      <td>-0.000023</td>\n",
       "      <td>0.0</td>\n",
       "      <td>NaN</td>\n",
       "    </tr>\n",
       "    <tr>\n",
       "      <th>21</th>\n",
       "      <td>0.355141</td>\n",
       "      <td>-0.528031</td>\n",
       "      <td>-0.447205</td>\n",
       "      <td>-0.000040</td>\n",
       "      <td>0.421912</td>\n",
       "      <td>-0.000023</td>\n",
       "      <td>0.0</td>\n",
       "      <td>NaN</td>\n",
       "    </tr>\n",
       "    <tr>\n",
       "      <th>22</th>\n",
       "      <td>0.355141</td>\n",
       "      <td>-0.528531</td>\n",
       "      <td>-0.447240</td>\n",
       "      <td>-0.000042</td>\n",
       "      <td>0.421916</td>\n",
       "      <td>-0.000023</td>\n",
       "      <td>0.0</td>\n",
       "      <td>NaN</td>\n",
       "    </tr>\n",
       "    <tr>\n",
       "      <th>23</th>\n",
       "      <td>0.355141</td>\n",
       "      <td>-0.529041</td>\n",
       "      <td>-0.447272</td>\n",
       "      <td>-0.000042</td>\n",
       "      <td>0.421919</td>\n",
       "      <td>-0.000023</td>\n",
       "      <td>0.0</td>\n",
       "      <td>NaN</td>\n",
       "    </tr>\n",
       "    <tr>\n",
       "      <th>24</th>\n",
       "      <td>0.355141</td>\n",
       "      <td>-0.529565</td>\n",
       "      <td>-0.447307</td>\n",
       "      <td>-0.000042</td>\n",
       "      <td>0.421923</td>\n",
       "      <td>-0.000023</td>\n",
       "      <td>0.0</td>\n",
       "      <td>NaN</td>\n",
       "    </tr>\n",
       "    <tr>\n",
       "      <th>25</th>\n",
       "      <td>0.355141</td>\n",
       "      <td>-0.530107</td>\n",
       "      <td>-0.447347</td>\n",
       "      <td>-0.000042</td>\n",
       "      <td>0.421925</td>\n",
       "      <td>-0.000023</td>\n",
       "      <td>0.0</td>\n",
       "      <td>NaN</td>\n",
       "    </tr>\n",
       "    <tr>\n",
       "      <th>26</th>\n",
       "      <td>0.355141</td>\n",
       "      <td>-0.530673</td>\n",
       "      <td>-0.447393</td>\n",
       "      <td>-0.000042</td>\n",
       "      <td>0.421929</td>\n",
       "      <td>-0.000023</td>\n",
       "      <td>0.0</td>\n",
       "      <td>NaN</td>\n",
       "    </tr>\n",
       "    <tr>\n",
       "      <th>27</th>\n",
       "      <td>0.355141</td>\n",
       "      <td>-0.531277</td>\n",
       "      <td>-0.447447</td>\n",
       "      <td>-0.000042</td>\n",
       "      <td>0.421931</td>\n",
       "      <td>-0.000023</td>\n",
       "      <td>0.0</td>\n",
       "      <td>NaN</td>\n",
       "    </tr>\n",
       "    <tr>\n",
       "      <th>28</th>\n",
       "      <td>0.355141</td>\n",
       "      <td>-0.531927</td>\n",
       "      <td>-0.447506</td>\n",
       "      <td>-0.000042</td>\n",
       "      <td>0.421933</td>\n",
       "      <td>-0.000023</td>\n",
       "      <td>0.0</td>\n",
       "      <td>NaN</td>\n",
       "    </tr>\n",
       "    <tr>\n",
       "      <th>29</th>\n",
       "      <td>0.355141</td>\n",
       "      <td>-0.532617</td>\n",
       "      <td>-0.447571</td>\n",
       "      <td>-0.000042</td>\n",
       "      <td>0.421935</td>\n",
       "      <td>-0.000023</td>\n",
       "      <td>0.0</td>\n",
       "      <td>NaN</td>\n",
       "    </tr>\n",
       "  </tbody>\n",
       "</table>\n",
       "</div>"
      ],
      "text/plain": [
       "           0         1         2         3         4         5    6   7\n",
       "0   0.355178 -0.520234 -0.446406 -0.000036  0.421889 -0.000023  0.0 NaN\n",
       "1   0.355141 -0.521387 -0.446406 -0.000036  0.421889 -0.000023  0.0 NaN\n",
       "2   0.355141 -0.521603 -0.446406 -0.000036  0.421889 -0.000023  0.0 NaN\n",
       "3   0.355141 -0.521785 -0.446408 -0.000036  0.421889 -0.000023  0.0 NaN\n",
       "4   0.355141 -0.522042 -0.446410 -0.000036  0.421889 -0.000023  0.0 NaN\n",
       "5   0.355141 -0.522313 -0.446415 -0.000038  0.421889 -0.000023  0.0 NaN\n",
       "6   0.355141 -0.522585 -0.446427 -0.000038  0.421889 -0.000023  0.0 NaN\n",
       "7   0.355141 -0.522869 -0.446444 -0.000038  0.421889 -0.000023  0.0 NaN\n",
       "8   0.355141 -0.523160 -0.446475 -0.000038  0.421889 -0.000023  0.0 NaN\n",
       "9   0.355141 -0.523458 -0.446532 -0.000038  0.421889 -0.000023  0.0 NaN\n",
       "10  0.355141 -0.523772 -0.446607 -0.000038  0.421889 -0.000023  0.0 NaN\n",
       "11  0.355141 -0.524086 -0.446684 -0.000038  0.421889 -0.000023  0.0 NaN\n",
       "12  0.355141 -0.524407 -0.446747 -0.000038  0.421889 -0.000023  0.0 NaN\n",
       "13  0.355141 -0.524744 -0.446808 -0.000040  0.421889 -0.000023  0.0 NaN\n",
       "14  0.355141 -0.525099 -0.446864 -0.000040  0.421889 -0.000023  0.0 NaN\n",
       "15  0.355141 -0.525477 -0.446920 -0.000040  0.421891 -0.000023  0.0 NaN\n",
       "16  0.355141 -0.525879 -0.446975 -0.000040  0.421891 -0.000023  0.0 NaN\n",
       "17  0.355141 -0.526192 -0.447021 -0.000040  0.421893 -0.000023  0.0 NaN\n",
       "18  0.355141 -0.526619 -0.447077 -0.000040  0.421896 -0.000023  0.0 NaN\n",
       "19  0.355141 -0.527076 -0.447125 -0.000040  0.421898 -0.000023  0.0 NaN\n",
       "20  0.355141 -0.527542 -0.447169 -0.000040  0.421904 -0.000023  0.0 NaN\n",
       "21  0.355141 -0.528031 -0.447205 -0.000040  0.421912 -0.000023  0.0 NaN\n",
       "22  0.355141 -0.528531 -0.447240 -0.000042  0.421916 -0.000023  0.0 NaN\n",
       "23  0.355141 -0.529041 -0.447272 -0.000042  0.421919 -0.000023  0.0 NaN\n",
       "24  0.355141 -0.529565 -0.447307 -0.000042  0.421923 -0.000023  0.0 NaN\n",
       "25  0.355141 -0.530107 -0.447347 -0.000042  0.421925 -0.000023  0.0 NaN\n",
       "26  0.355141 -0.530673 -0.447393 -0.000042  0.421929 -0.000023  0.0 NaN\n",
       "27  0.355141 -0.531277 -0.447447 -0.000042  0.421931 -0.000023  0.0 NaN\n",
       "28  0.355141 -0.531927 -0.447506 -0.000042  0.421933 -0.000023  0.0 NaN\n",
       "29  0.355141 -0.532617 -0.447571 -0.000042  0.421935 -0.000023  0.0 NaN"
      ]
     },
     "execution_count": 88,
     "metadata": {},
     "output_type": "execute_result"
    }
   ],
   "source": [
    "df = pd.read_csv('test.traj',header=None)\n",
    "df.head(30)"
   ]
  },
  {
   "cell_type": "code",
   "execution_count": 1,
   "metadata": {},
   "outputs": [
    {
     "ename": "NameError",
     "evalue": "name 'pd' is not defined",
     "output_type": "error",
     "traceback": [
      "\u001b[0;31m---------------------------------------------------------------------------\u001b[0m",
      "\u001b[0;31mNameError\u001b[0m                                 Traceback (most recent call last)",
      "Cell \u001b[0;32mIn [1], line 1\u001b[0m\n\u001b[0;32m----> 1\u001b[0m df \u001b[39m=\u001b[39m pd\u001b[39m.\u001b[39mread_csv(\u001b[39m'\u001b[39m\u001b[39mdraw_2.traj\u001b[39m\u001b[39m'\u001b[39m,header\u001b[39m=\u001b[39m\u001b[39mNone\u001b[39;00m)\n\u001b[1;32m      2\u001b[0m df_2 \u001b[39m=\u001b[39m np\u001b[39m.\u001b[39mtranspose(df\u001b[39m.\u001b[39mloc[:,\u001b[39m0\u001b[39m:\u001b[39m2\u001b[39m])\n\u001b[1;32m      3\u001b[0m y_des \u001b[39m=\u001b[39m df_2\u001b[39m.\u001b[39mto_numpy()\n",
      "\u001b[0;31mNameError\u001b[0m: name 'pd' is not defined"
     ]
    }
   ],
   "source": [
    "df = pd.read_csv('draw_2.traj',header=None)\n",
    "df_2 = np.transpose(df.loc[:,0:2])\n",
    "y_des = df_2.to_numpy()"
   ]
  },
  {
   "cell_type": "code",
   "execution_count": 91,
   "metadata": {},
   "outputs": [
    {
     "data": {
      "image/png": "[encoded data removed]",
      "text/plain": [
       "<Figure size 640x480 with 1 Axes>"
      ]
     },
     "metadata": {},
     "output_type": "display_data"
    }
   ],
   "source": [
    "test = test_joint1_df.loc[:,0:1]\n",
    "plt.plot(test[0],test[1])\n",
    "plt.xlim([-2, 2])\n",
    "plt.ylim([-2, 2])\n",
    "plt.show()"
   ]
  },
  {
   "cell_type": "code",
   "execution_count": 40,
   "metadata": {},
   "outputs": [
    {
     "data": {
      "text/plain": [
       "[<matplotlib.lines.Line2D at 0x7fe03ef110d0>]"
      ]
     },
     "execution_count": 40,
     "metadata": {},
     "output_type": "execute_result"
    },
    {
     "data": {
      "image/png": "[encoded data removed]",
      "text/plain": [
       "<Figure size 640x480 with 1 Axes>"
      ]
     },
     "metadata": {},
     "output_type": "display_data"
    }
   ],
   "source": [
    "y_des = np.load(\"2.npz\")[\"arr_0\"].T\n",
    "y_des -= y_des[:, 0][:, None]\n",
    "plt.plot(y_des[0],y_des[1])"
   ]
  },
  {
   "cell_type": "code",
   "execution_count": 83,
   "metadata": {},
   "outputs": [
    {
     "data": {
      "text/html": [
       "<div>\n",
       "<style scoped>\n",
       "    .dataframe tbody tr th:only-of-type {\n",
       "        vertical-align: middle;\n",
       "    }\n",
       "\n",
       "    .dataframe tbody tr th {\n",
       "        vertical-align: top;\n",
       "    }\n",
       "\n",
       "    .dataframe thead th {\n",
       "        text-align: right;\n",
       "    }\n",
       "</style>\n",
       "<table border=\"1\" class=\"dataframe\">\n",
       "  <thead>\n",
       "    <tr style=\"text-align: right;\">\n",
       "      <th></th>\n",
       "      <th>0</th>\n",
       "      <th>1</th>\n",
       "      <th>2</th>\n",
       "      <th>3</th>\n",
       "      <th>4</th>\n",
       "      <th>5</th>\n",
       "      <th>6</th>\n",
       "      <th>7</th>\n",
       "    </tr>\n",
       "  </thead>\n",
       "  <tbody>\n",
       "    <tr>\n",
       "      <th>0</th>\n",
       "      <td>0.000002</td>\n",
       "      <td>-0.000002</td>\n",
       "      <td>0.000002</td>\n",
       "      <td>-0.00001</td>\n",
       "      <td>-0.000013</td>\n",
       "      <td>-0.000002</td>\n",
       "      <td>0.0</td>\n",
       "      <td>NaN</td>\n",
       "    </tr>\n",
       "    <tr>\n",
       "      <th>1</th>\n",
       "      <td>0.000002</td>\n",
       "      <td>-0.001089</td>\n",
       "      <td>0.000002</td>\n",
       "      <td>-0.00001</td>\n",
       "      <td>-0.000013</td>\n",
       "      <td>-0.000002</td>\n",
       "      <td>0.0</td>\n",
       "      <td>NaN</td>\n",
       "    </tr>\n",
       "    <tr>\n",
       "      <th>2</th>\n",
       "      <td>0.000002</td>\n",
       "      <td>-0.001235</td>\n",
       "      <td>0.000002</td>\n",
       "      <td>-0.00001</td>\n",
       "      <td>-0.000013</td>\n",
       "      <td>-0.000002</td>\n",
       "      <td>0.0</td>\n",
       "      <td>NaN</td>\n",
       "    </tr>\n",
       "    <tr>\n",
       "      <th>3</th>\n",
       "      <td>0.000002</td>\n",
       "      <td>-0.001450</td>\n",
       "      <td>0.000002</td>\n",
       "      <td>-0.00001</td>\n",
       "      <td>-0.000013</td>\n",
       "      <td>-0.000002</td>\n",
       "      <td>0.0</td>\n",
       "      <td>NaN</td>\n",
       "    </tr>\n",
       "    <tr>\n",
       "      <th>4</th>\n",
       "      <td>0.000002</td>\n",
       "      <td>-0.001684</td>\n",
       "      <td>0.000002</td>\n",
       "      <td>-0.00001</td>\n",
       "      <td>-0.000013</td>\n",
       "      <td>-0.000002</td>\n",
       "      <td>0.0</td>\n",
       "      <td>NaN</td>\n",
       "    </tr>\n",
       "  </tbody>\n",
       "</table>\n",
       "</div>"
      ],
      "text/plain": [
       "          0         1         2        3         4         5    6   7\n",
       "0  0.000002 -0.000002  0.000002 -0.00001 -0.000013 -0.000002  0.0 NaN\n",
       "1  0.000002 -0.001089  0.000002 -0.00001 -0.000013 -0.000002  0.0 NaN\n",
       "2  0.000002 -0.001235  0.000002 -0.00001 -0.000013 -0.000002  0.0 NaN\n",
       "3  0.000002 -0.001450  0.000002 -0.00001 -0.000013 -0.000002  0.0 NaN\n",
       "4  0.000002 -0.001684  0.000002 -0.00001 -0.000013 -0.000002  0.0 NaN"
      ]
     },
     "execution_count": 83,
     "metadata": {},
     "output_type": "execute_result"
    }
   ],
   "source": [
    "df2 = pd.read_csv('test_joint2.traj',header=None)\n",
    "df2.head()"
   ]
  },
  {
   "cell_type": "code",
   "execution_count": 84,
   "metadata": {},
   "outputs": [
    {
     "data": {
      "text/html": [
       "<div>\n",
       "<style scoped>\n",
       "    .dataframe tbody tr th:only-of-type {\n",
       "        vertical-align: middle;\n",
       "    }\n",
       "\n",
       "    .dataframe tbody tr th {\n",
       "        vertical-align: top;\n",
       "    }\n",
       "\n",
       "    .dataframe thead th {\n",
       "        text-align: right;\n",
       "    }\n",
       "</style>\n",
       "<table border=\"1\" class=\"dataframe\">\n",
       "  <thead>\n",
       "    <tr style=\"text-align: right;\">\n",
       "      <th></th>\n",
       "      <th>0</th>\n",
       "      <th>1</th>\n",
       "    </tr>\n",
       "  </thead>\n",
       "  <tbody>\n",
       "    <tr>\n",
       "      <th>0</th>\n",
       "      <td>0.000002</td>\n",
       "      <td>-0.000002</td>\n",
       "    </tr>\n",
       "    <tr>\n",
       "      <th>1</th>\n",
       "      <td>0.000002</td>\n",
       "      <td>-0.001089</td>\n",
       "    </tr>\n",
       "    <tr>\n",
       "      <th>2</th>\n",
       "      <td>0.000002</td>\n",
       "      <td>-0.001235</td>\n",
       "    </tr>\n",
       "    <tr>\n",
       "      <th>3</th>\n",
       "      <td>0.000002</td>\n",
       "      <td>-0.001450</td>\n",
       "    </tr>\n",
       "    <tr>\n",
       "      <th>4</th>\n",
       "      <td>0.000002</td>\n",
       "      <td>-0.001684</td>\n",
       "    </tr>\n",
       "    <tr>\n",
       "      <th>...</th>\n",
       "      <td>...</td>\n",
       "      <td>...</td>\n",
       "    </tr>\n",
       "    <tr>\n",
       "      <th>3142</th>\n",
       "      <td>-0.000280</td>\n",
       "      <td>-0.011445</td>\n",
       "    </tr>\n",
       "    <tr>\n",
       "      <th>3143</th>\n",
       "      <td>-0.000280</td>\n",
       "      <td>-0.011445</td>\n",
       "    </tr>\n",
       "    <tr>\n",
       "      <th>3144</th>\n",
       "      <td>-0.000280</td>\n",
       "      <td>-0.011445</td>\n",
       "    </tr>\n",
       "    <tr>\n",
       "      <th>3145</th>\n",
       "      <td>-0.000280</td>\n",
       "      <td>-0.011445</td>\n",
       "    </tr>\n",
       "    <tr>\n",
       "      <th>3146</th>\n",
       "      <td>-0.000280</td>\n",
       "      <td>-0.011445</td>\n",
       "    </tr>\n",
       "  </tbody>\n",
       "</table>\n",
       "<p>3147 rows × 2 columns</p>\n",
       "</div>"
      ],
      "text/plain": [
       "             0         1\n",
       "0     0.000002 -0.000002\n",
       "1     0.000002 -0.001089\n",
       "2     0.000002 -0.001235\n",
       "3     0.000002 -0.001450\n",
       "4     0.000002 -0.001684\n",
       "...        ...       ...\n",
       "3142 -0.000280 -0.011445\n",
       "3143 -0.000280 -0.011445\n",
       "3144 -0.000280 -0.011445\n",
       "3145 -0.000280 -0.011445\n",
       "3146 -0.000280 -0.011445\n",
       "\n",
       "[3147 rows x 2 columns]"
      ]
     },
     "execution_count": 84,
     "metadata": {},
     "output_type": "execute_result"
    }
   ],
   "source": [
    "test = df2.loc[:,0:1]\n",
    "test"
   ]
  },
  {
   "cell_type": "code",
   "execution_count": 87,
   "metadata": {},
   "outputs": [
    {
     "data": {
      "image/png": "[encoded data removed]",
      "text/plain": [
       "<Figure size 640x480 with 1 Axes>"
      ]
     },
     "metadata": {},
     "output_type": "display_data"
    }
   ],
   "source": [
    "plt.plot(test[1],test[0])\n",
    "plt.xlim([-2, 2])\n",
    "plt.ylim([-2, 2])\n",
    "plt.show()"
   ]
  },
  {
   "cell_type": "code",
   "execution_count": 21,
   "metadata": {},
   "outputs": [],
   "source": [
    "y_des = np.load(\"2.npz\")[\"arr_0\"].T\n",
    "y_des -= y_des[:, 0][:, None]"
   ]
  },
  {
   "cell_type": "code",
   "execution_count": 27,
   "metadata": {},
   "outputs": [],
   "source": [
    "df = pd.read_csv('test_joint2.traj',header=None)\n",
    "df_2 = np.transpose(df.loc[:,0:3])\n",
    "y_des = df_2.to_numpy()"
   ]
  },
  {
   "cell_type": "code",
   "execution_count": 28,
   "metadata": {},
   "outputs": [
    {
     "data": {
      "text/plain": [
       "array([[ 2.0000e-06,  2.0000e-06,  2.0000e-06, ..., -2.8000e-04,\n",
       "        -2.8000e-04, -2.8000e-04],\n",
       "       [-2.0000e-06, -1.0890e-03, -1.2350e-03, ..., -1.1445e-02,\n",
       "        -1.1445e-02, -1.1445e-02],\n",
       "       [ 2.0000e-06,  2.0000e-06,  2.0000e-06, ...,  2.0000e-06,\n",
       "         2.0000e-06,  2.0000e-06],\n",
       "       [-1.0000e-05, -1.0000e-05, -1.0000e-05, ..., -1.0000e-05,\n",
       "        -1.0000e-05, -1.0000e-05]])"
      ]
     },
     "execution_count": 28,
     "metadata": {},
     "output_type": "execute_result"
    }
   ],
   "source": [
    "y_des"
   ]
  },
  {
   "cell_type": "code",
   "execution_count": 9,
   "metadata": {},
   "outputs": [],
   "source": [
    "y0 = 0\n",
    "goal=1\n",
    "n_dmps = 4\n",
    "y0 = np.ones(n_dmps) * y0\n",
    "goal = np.ones(n_dmps) * goal\n",
    "# for d in range(self.n_dmps):\n",
    "#     if abs(self.y0[d] - self.goal[d]) < 1e-4:\n",
    "#         self.goal[d] += 1e-4\n",
    "for d in range(n_dmps):\n",
    "    if abs(y0[d] - goal[d]) < 1e-4:\n",
    "        goal[d] += 1e-4"
   ]
  },
  {
   "cell_type": "code",
   "execution_count": 82,
   "metadata": {},
   "outputs": [],
   "source": [
    "df = pd.read_csv('/home/chionn/fyp_ws/src/pydmps-test/examples/traj_files/draw_2.traj',header=None)\n",
    "df_2 = np.transpose(df.loc[:,0:1])\n",
    "y_des = df_2.to_numpy()"
   ]
  },
  {
   "cell_type": "code",
   "execution_count": 83,
   "metadata": {},
   "outputs": [
    {
     "name": "stdout",
     "output_type": "stream",
     "text": [
      "[[ 0.551098  0.549959  0.549723 ... -0.416215 -0.416215 -0.416215]\n",
      " [ 0.010168  0.010176  0.010186 ... -1.028408 -1.028408 -1.028408]]\n",
      "2\n"
     ]
    }
   ],
   "source": [
    "print(y_des)\n",
    "print(y_des.ndim)"
   ]
  },
  {
   "cell_type": "code",
   "execution_count": 86,
   "metadata": {},
   "outputs": [
    {
     "ename": "TypeError",
     "evalue": "'numpy.ndarray' object is not callable",
     "output_type": "error",
     "traceback": [
      "\u001b[0;31m---------------------------------------------------------------------------\u001b[0m",
      "\u001b[0;31mTypeError\u001b[0m                                 Traceback (most recent call last)",
      "Cell \u001b[0;32mIn [86], line 5\u001b[0m\n\u001b[1;32m      3\u001b[0m y0 \u001b[39m=\u001b[39m y_des[:, \u001b[39m0\u001b[39m]\u001b[39m.\u001b[39mcopy()\n\u001b[1;32m      4\u001b[0m y_des \u001b[39m=\u001b[39m y_des\u001b[39m.\u001b[39mcopy()\n\u001b[0;32m----> 5\u001b[0m goal \u001b[39m=\u001b[39m goal(y_des)\n",
      "\u001b[0;31mTypeError\u001b[0m: 'numpy.ndarray' object is not callable"
     ]
    }
   ],
   "source": [
    "if y_des.ndim == 1:\n",
    "    y_des = y_des.reshape(1, len(y_des))\n",
    "y0 = y_des[:, 0].copy()\n",
    "y_des = y_des.copy()\n",
    "goal = goal(y_des)"
   ]
  },
  {
   "cell_type": "code",
   "execution_count": 5,
   "metadata": {},
   "outputs": [
    {
     "data": {
      "text/plain": [
       "(3, 2660)"
      ]
     },
     "execution_count": 5,
     "metadata": {},
     "output_type": "execute_result"
    }
   ],
   "source": [
    "df = pd.read_csv('/home/chionn/fyp_ws/src/ros_dmp_moveit/pydmps-test/examples/traj_files/draw_2.traj',header=None)\n",
    "df_2 = np.transpose(df.loc[:,0:2])\n",
    "y_des = df_2.to_numpy()\n",
    "y_des.shape"
   ]
  },
  {
   "cell_type": "code",
   "execution_count": 8,
   "metadata": {},
   "outputs": [
    {
     "data": {
      "text/plain": [
       "array([[0.1, 0.2, 0.3],\n",
       "       [0.4, 0.5, 0.6],\n",
       "       [0.7, 0.8, 0.9]])"
      ]
     },
     "execution_count": 8,
     "metadata": {},
     "output_type": "execute_result"
    }
   ],
   "source": [
    "y_des = np.array([[0.1, 0.2, 0.3], [0.4, 0.5, 0.6],[0.7,0.8,0.9]])\n",
    "y_des\n"
   ]
  },
  {
   "cell_type": "code",
   "execution_count": 47,
   "metadata": {},
   "outputs": [
    {
     "name": "stdout",
     "output_type": "stream",
     "text": [
      "2\n",
      "2\n"
     ]
    }
   ],
   "source": []
  },
  {
   "cell_type": "code",
   "execution_count": 55,
   "metadata": {},
   "outputs": [],
   "source": []
  },
  {
   "cell_type": "code",
   "execution_count": 78,
   "metadata": {},
   "outputs": [],
   "source": []
  },
  {
   "cell_type": "code",
   "execution_count": 79,
   "metadata": {},
   "outputs": [
    {
     "name": "stdout",
     "output_type": "stream",
     "text": [
      "[[1 2 3]]\n"
     ]
    }
   ],
   "source": []
  },
  {
   "cell_type": "code",
   "execution_count": 80,
   "metadata": {},
   "outputs": [
    {
     "data": {
      "text/plain": [
       "2"
      ]
     },
     "execution_count": 80,
     "metadata": {},
     "output_type": "execute_result"
    }
   ],
   "source": []
  },
  {
   "cell_type": "code",
   "execution_count": 81,
   "metadata": {},
   "outputs": [
    {
     "ename": "ValueError",
     "evalue": "cannot reshape array of size 3 into shape (1,1)",
     "output_type": "error",
     "traceback": [
      "\u001b[0;31m---------------------------------------------------------------------------\u001b[0m",
      "\u001b[0;31mValueError\u001b[0m                                Traceback (most recent call last)",
      "Cell \u001b[0;32mIn [81], line 1\u001b[0m\n\u001b[0;32m----> 1\u001b[0m y_des \u001b[39m=\u001b[39m y_des\u001b[39m.\u001b[39mreshape(\u001b[39m1\u001b[39m, \u001b[39mlen\u001b[39m(y_des))\n",
      "\u001b[0;31mValueError\u001b[0m: cannot reshape array of size 3 into shape (1,1)"
     ]
    }
   ],
   "source": []
  },
  {
   "cell_type": "code",
   "execution_count": null,
   "metadata": {},
   "outputs": [],
   "source": []
  }
 ],
 "metadata": {
  "kernelspec": {
   "display_name": "Python 3.8.10 ('fyp')",
   "language": "python",
   "name": "python3"
  },
  "language_info": {
   "codemirror_mode": {
    "name": "ipython",
    "version": 3
   },
   "file_extension": ".py",
   "mimetype": "text/x-python",
   "name": "python",
   "nbconvert_exporter": "python",
   "pygments_lexer": "ipython3",
   "version": "3.8.10"
  },
  "orig_nbformat": 4,
  "vscode": {
   "interpreter": {
    "hash": "db2dbc4a1229344107c3ff180a1f0eb3b514cc81b7607e1db904b7a762a55fc9"
   }
  }
 },
 "nbformat": 4,
 "nbformat_minor": 2
}
