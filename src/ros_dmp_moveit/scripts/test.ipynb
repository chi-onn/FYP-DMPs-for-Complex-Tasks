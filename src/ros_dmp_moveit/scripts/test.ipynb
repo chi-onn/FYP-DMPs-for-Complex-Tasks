{
 "cells": [
  {
   "cell_type": "code",
   "execution_count": 23,
   "metadata": {},
   "outputs": [],
   "source": [
    "import pandas as pd\n",
    "import numpy as np\n",
    "import rospy\n",
    "import copy\n",
    "from moveit_msgs.msg import (\n",
    "    RobotTrajectory,\n",
    "    Grasp,\n",
    "    PlaceLocation,\n",
    "    Constraints,\n",
    "    RobotState,\n",
    ")\n",
    "from sensor_msgs.msg import JointState"
   ]
  },
  {
   "cell_type": "code",
   "execution_count": 19,
   "metadata": {},
   "outputs": [],
   "source": [
    "a = RobotTrajectory()"
   ]
  },
  {
   "cell_type": "code",
   "execution_count": 21,
   "metadata": {},
   "outputs": [
    {
     "ename": "NameError",
     "evalue": "name 'move_group' is not defined",
     "output_type": "error",
     "traceback": [
      "\u001b[0;31m---------------------------------------------------------------------------\u001b[0m",
      "\u001b[0;31mNameError\u001b[0m                                 Traceback (most recent call last)",
      "Cell \u001b[0;32mIn [21], line 3\u001b[0m\n\u001b[1;32m      1\u001b[0m waypoints \u001b[39m=\u001b[39m []\n\u001b[0;32m----> 3\u001b[0m wpose \u001b[39m=\u001b[39m move_group\u001b[39m.\u001b[39mget_current_pose()\u001b[39m.\u001b[39mpose\n\u001b[1;32m      4\u001b[0m wpose\u001b[39m.\u001b[39mposition\u001b[39m.\u001b[39mz \u001b[39m-\u001b[39m\u001b[39m=\u001b[39m scale \u001b[39m*\u001b[39m \u001b[39m0.1\u001b[39m  \u001b[39m# First move up (z)\u001b[39;00m\n\u001b[1;32m      5\u001b[0m wpose\u001b[39m.\u001b[39mposition\u001b[39m.\u001b[39my \u001b[39m+\u001b[39m\u001b[39m=\u001b[39m scale \u001b[39m*\u001b[39m \u001b[39m0.2\u001b[39m  \u001b[39m# and sideways (y)\u001b[39;00m\n",
      "\u001b[0;31mNameError\u001b[0m: name 'move_group' is not defined"
     ]
    }
   ],
   "source": [
    "waypoints = []\n",
    "\n",
    "wpose = move_group.get_current_pose().pose\n",
    "wpose.position.z -= scale * 0.1  # First move up (z)\n",
    "wpose.position.y += scale * 0.2  # and sideways (y)\n",
    "waypoints.append(copy.deepcopy(wpose))\n",
    "\n",
    "wpose.position.x += scale * 0.1  # Second move forward/backwards in (x)\n",
    "waypoints.append(copy.deepcopy(wpose))\n",
    "\n",
    "wpose.position.y -= scale * 0.1  # Third move sideways (y)\n",
    "waypoints.append(copy.deepcopy(wpose))"
   ]
  },
  {
   "cell_type": "code",
   "execution_count": 24,
   "metadata": {},
   "outputs": [],
   "source": [
    "wpose = [1,2,3]\n",
    "waypoints = []\n",
    "waypoints.append(copy.deepcopy(wpose))"
   ]
  },
  {
   "cell_type": "code",
   "execution_count": 25,
   "metadata": {},
   "outputs": [
    {
     "data": {
      "text/plain": [
       "[[1, 2, 3]]"
      ]
     },
     "execution_count": 25,
     "metadata": {},
     "output_type": "execute_result"
    }
   ],
   "source": [
    "waypoints"
   ]
  },
  {
   "cell_type": "code",
   "execution_count": null,
   "metadata": {},
   "outputs": [],
   "source": []
  }
 ],
 "metadata": {
  "kernelspec": {
   "display_name": "Python 3.8.10 ('fyp')",
   "language": "python",
   "name": "python3"
  },
  "language_info": {
   "codemirror_mode": {
    "name": "ipython",
    "version": 3
   },
   "file_extension": ".py",
   "mimetype": "text/x-python",
   "name": "python",
   "nbconvert_exporter": "python",
   "pygments_lexer": "ipython3",
   "version": "3.8.10"
  },
  "orig_nbformat": 4,
  "vscode": {
   "interpreter": {
    "hash": "db2dbc4a1229344107c3ff180a1f0eb3b514cc81b7607e1db904b7a762a55fc9"
   }
  }
 },
 "nbformat": 4,
 "nbformat_minor": 2
}
